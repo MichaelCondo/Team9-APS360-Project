{
  "nbformat": 4,
  "nbformat_minor": 0,
  "metadata": {
    "colab": {
      "name": "CheckYoSelf.ipynb",
      "provenance": [],
      "collapsed_sections": [],
      "authorship_tag": "ABX9TyNPGaics3BTRyR+YZs7ha91",
      "include_colab_link": true
    },
    "kernelspec": {
      "name": "python3",
      "display_name": "Python 3"
    }
  },
  "cells": [
    {
      "cell_type": "markdown",
      "metadata": {
        "id": "view-in-github",
        "colab_type": "text"
      },
      "source": [
        "<a href=\"https://colab.research.google.com/github/MichaelCondo/Team9-APS360-Project/blob/main/CheckYoSelf.ipynb\" target=\"_parent\"><img src=\"https://colab.research.google.com/assets/colab-badge.svg\" alt=\"Open In Colab\"/></a>"
      ]
    },
    {
      "cell_type": "markdown",
      "metadata": {
        "id": "Xnxz_RI3s_LQ"
      },
      "source": [
        "# Check Yo' Self \n",
        "**Self-serve checkout using Neural Networks**"
      ]
    },
    {
      "cell_type": "markdown",
      "metadata": {
        "id": "kGq6kr8QkR8L"
      },
      "source": [
        "## Architecture\n",
        "![alt text](https://github.com/MichaelCondo/Team9-APS360-Project/blob/main/docs/Architecture_Diagram.png?raw=true)"
      ]
    },
    {
      "cell_type": "markdown",
      "metadata": {
        "id": "QtKWWS4Zs19j"
      },
      "source": [
        "#### Colab Link\n",
        "https://colab.research.google.com/drive/1orPKVUQ4HNBHVMX7FA_iUog5O6-ntZoC?usp=sharing"
      ]
    },
    {
      "cell_type": "code",
      "metadata": {
        "id": "U4BPDZRqtYCb"
      },
      "source": [
        "import numpy as np\n",
        "import time\n",
        "import torch\n",
        "import torch.nn as nn\n",
        "import torch.nn.functional as F\n",
        "import torch.optim as optim\n",
        "import torchvision\n",
        "from torch.utils.data.sampler import SubsetRandomSampler\n",
        "import torchvision.transforms as transforms\n",
        "import matplotlib.pyplot as plt"
      ],
      "execution_count": null,
      "outputs": []
    },
    {
      "cell_type": "markdown",
      "metadata": {
        "id": "tkwqShLNjs_D"
      },
      "source": [
        "## 0. Helper Functions"
      ]
    },
    {
      "cell_type": "code",
      "metadata": {
        "id": "Q6T1wQpnjykA"
      },
      "source": [
        ""
      ],
      "execution_count": null,
      "outputs": []
    },
    {
      "cell_type": "markdown",
      "metadata": {
        "id": "RgBq2ZRCiIBr"
      },
      "source": [
        "## 1. Data Collection\n",
        "\n",
        "**Tasks**:\n",
        "* Understand Fruits 360 dataset\n",
        "* Loading dataset into Colab\n",
        "* Collecting prices of fruits\n",
        "* Splitting the dataset into training, validation and testing (stratify or random) "
      ]
    },
    {
      "cell_type": "code",
      "metadata": {
        "id": "xVphS1bhiNmF"
      },
      "source": [
        ""
      ],
      "execution_count": null,
      "outputs": []
    },
    {
      "cell_type": "markdown",
      "metadata": {
        "id": "w8zUPgKgiOZ1"
      },
      "source": [
        "## 2. Data Processing\n",
        "\n",
        "**Tasks**:\n",
        "* Remove items that are not sold as individual fruits (i.e. vegetables, small berries, bunched bananas)\n",
        "* Consolidate split classes either by combining or removing (e.g. Apple Red 1/2/3)\n"
      ]
    },
    {
      "cell_type": "code",
      "metadata": {
        "id": "i2iijoVzilIc"
      },
      "source": [
        ""
      ],
      "execution_count": null,
      "outputs": []
    },
    {
      "cell_type": "markdown",
      "metadata": {
        "id": "cCHzon3ViljJ"
      },
      "source": [
        "## 3. Baseline Model\n",
        "\n",
        "**Tasks**:\n",
        "* Setup and train random forrest model\n"
      ]
    },
    {
      "cell_type": "code",
      "metadata": {
        "id": "gnj8llP9it8n"
      },
      "source": [
        ""
      ],
      "execution_count": null,
      "outputs": []
    },
    {
      "cell_type": "markdown",
      "metadata": {
        "id": "_E1bdxW8iugn"
      },
      "source": [
        "## 4. Model Setup\n",
        "\n",
        "**Tasks**:\n",
        "* Using previous labs as reference, create CNN skeleton to work for 100x100 RGB images\n"
      ]
    },
    {
      "cell_type": "code",
      "metadata": {
        "id": "UyL2mbjVjDeH"
      },
      "source": [
        ""
      ],
      "execution_count": null,
      "outputs": []
    },
    {
      "cell_type": "markdown",
      "metadata": {
        "id": "XDwEYmJojEFI"
      },
      "source": [
        "## 5. Model Training and Tuning\n",
        "\n",
        "**Tasks**:\n",
        "* Write training code \n",
        "* Adjust hyperparameters to get at least 90% validation accuracy\n",
        "\n"
      ]
    },
    {
      "cell_type": "code",
      "metadata": {
        "id": "5qSSxcEQjLVG"
      },
      "source": [
        ""
      ],
      "execution_count": null,
      "outputs": []
    }
  ]
}