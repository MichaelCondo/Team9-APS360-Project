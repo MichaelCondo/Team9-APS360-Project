{
  "nbformat": 4,
  "nbformat_minor": 0,
  "metadata": {
    "colab": {
      "name": "CheckYoSelf.ipynb",
      "provenance": [],
      "collapsed_sections": [],
      "include_colab_link": true
    },
    "kernelspec": {
      "name": "python3",
      "display_name": "Python 3"
    }
  },
  "cells": [
    {
      "cell_type": "markdown",
      "metadata": {
        "id": "view-in-github",
        "colab_type": "text"
      },
      "source": [
        "<a href=\"https://colab.research.google.com/github/MichaelCondo/Team9-APS360-Project/blob/main/CheckYoSelf.ipynb\" target=\"_parent\"><img src=\"https://colab.research.google.com/assets/colab-badge.svg\" alt=\"Open In Colab\"/></a>"
      ]
    },
    {
      "cell_type": "markdown",
      "metadata": {
        "id": "Xnxz_RI3s_LQ"
      },
      "source": [
        "# Check Yo' Self \n",
        "**Self-serve checkout enhancement using Neural Networks and Deep Learning**"
      ]
    },
    {
      "cell_type": "markdown",
      "metadata": {
        "id": "kGq6kr8QkR8L"
      },
      "source": [
        "## Architecture\n",
        "![alt text](https://github.com/MichaelCondo/Team9-APS360-Project/blob/main/docs/Architecture_Diagram.png?raw=true)"
      ]
    },
    {
      "cell_type": "markdown",
      "metadata": {
        "id": "QtKWWS4Zs19j"
      },
      "source": [
        "#### Colab Link\n",
        "https://colab.research.google.com/github/MichaelCondo/Team9-APS360-Project/blob/main/CheckYoSelf.ipynb"
      ]
    },
    {
      "cell_type": "code",
      "metadata": {
        "id": "U4BPDZRqtYCb"
      },
      "source": [
        "import numpy as np\n",
        "import time\n",
        "import torch\n",
        "import torch.nn as nn\n",
        "import torch.nn.functional as F\n",
        "import torch.optim as optim\n",
        "import torchvision\n",
        "from torch.utils.data.sampler import SubsetRandomSampler\n",
        "import torchvision.transforms as transforms\n",
        "import matplotlib.pyplot as plt"
      ],
      "execution_count": 24,
      "outputs": []
    },
    {
      "cell_type": "markdown",
      "metadata": {
        "id": "tkwqShLNjs_D"
      },
      "source": [
        "## 0. Helper Functions"
      ]
    },
    {
      "cell_type": "code",
      "metadata": {
        "id": "Q6T1wQpnjykA"
      },
      "source": [
        ""
      ],
      "execution_count": 24,
      "outputs": []
    },
    {
      "cell_type": "markdown",
      "metadata": {
        "id": "RgBq2ZRCiIBr"
      },
      "source": [
        "## 1. Data Collection\n",
        "\n",
        "**Tasks**:\n",
        "* Understand Fruits 360 dataset\n",
        "* Loading dataset into Colab\n",
        "* Collecting prices of fruits\n",
        "* Splitting the dataset into training, validation and testing (stratify or random) "
      ]
    },
    {
      "cell_type": "markdown",
      "metadata": {
        "id": "ec_eenN_vloX"
      },
      "source": [
        "### 1.1 Fruits 360 Dataset\n",
        "\n",
        "[Fruits 360](https://www.kaggle.com/moltean/fruits) is a dataset of 90000+ images of 130+ fruits and vegetables, in RGB colour at 100x100px a piece.\n",
        "\n",
        "We're using [the GitHub mirror](https://github.com/Horea94/Fruit-Images-Dataset) to download the dataset as it does not require authentication to Kaggle."
      ]
    },
    {
      "cell_type": "code",
      "metadata": {
        "id": "xVphS1bhiNmF",
        "outputId": "b2a2b128-d268-4250-c4b2-38c7880def08",
        "colab": {
          "base_uri": "https://localhost:8080/"
        }
      },
      "source": [
        "# Download the dataset from GitHub\n",
        "!wget -nc https://github.com/Horea94/Fruit-Images-Dataset/archive/master.zip \\\n",
        "    && mkdir -p \"/root/project\" \\\n",
        "    && unzip -nq \"master.zip\" -d \"/root/project/datasets\" \\\n",
        "    && find \"/root/project/datasets/\" -mindepth 2 -maxdepth 2 -type d -ls\n",
        "DATA_MASTER_PATH = \"/root/project/datasets/Fruit-Images-Dataset-master\""
      ],
      "execution_count": 25,
      "outputs": [
        {
          "output_type": "stream",
          "text": [
            "File ‘master.zip’ already there; not retrieving.\n",
            "\n",
            "  1877231      4 drwxr-xr-x   2 root     root         4096 Sep  9 15:32 /root/project/datasets/Fruit-Images-Dataset-master/papers\n",
            "  1841562      4 drwxr-xr-x 133 root     root         4096 Nov 11 03:35 /root/project/datasets/Fruit-Images-Dataset-master/Test\n",
            "  1864382      4 drwxr-xr-x 133 root     root         4096 Nov 11 03:35 /root/project/datasets/Fruit-Images-Dataset-master/Training\n",
            "  1877234      4 drwxr-xr-x   5 root     root         4096 Sep  9 15:32 /root/project/datasets/Fruit-Images-Dataset-master/src\n",
            "  1877259      4 drwxr-xr-x   2 root     root         4096 Sep  9 15:32 /root/project/datasets/Fruit-Images-Dataset-master/test-multiple_fruits\n"
          ],
          "name": "stdout"
        }
      ]
    },
    {
      "cell_type": "markdown",
      "metadata": {
        "id": "vPu4vwrQ1LMs"
      },
      "source": [
        "Let's take a look at the contents of the dataset. \n",
        "\n",
        "How many training samples are there for each of the classes?"
      ]
    },
    {
      "cell_type": "code",
      "metadata": {
        "id": "vm81ED0dxA-u",
        "outputId": "af425811-2bb5-47c3-9c70-e607cbfb5c1a",
        "colab": {
          "base_uri": "https://localhost:8080/"
        }
      },
      "source": [
        "!cd \"{DATA_MASTER_PATH}/Training\" \\\n",
        "    && find -maxdepth 2 -mindepth 2 -type f -printf \"%h\\0\" \\\n",
        "    | uniq -zc | tr '\\0' '\\n' | sort -rh  \\\n",
        "    | (sed -u 10q ; echo \"...\" ; tail)"
      ],
      "execution_count": 26,
      "outputs": [
        {
          "output_type": "stream",
          "text": [
            "    984 ./Grape Blue\n",
            "    900 ./Plum 3\n",
            "    738 ./Tomato 3\n",
            "    738 ./Tomato 1\n",
            "    738 ./Strawberry Wedge\n",
            "    738 ./Peach 2\n",
            "    738 ./Melon Piel de Sapo\n",
            "    738 ./Cherry Rainier\n",
            "    738 ./Cherry 2\n",
            "    735 ./Walnut\n",
            "...\n",
            "    438 ./Onion White\n",
            "    429 ./Apple Red 3\n",
            "    427 ./Avocado\n",
            "    426 ./Mango Red\n",
            "    420 ./Plum 2\n",
            "    392 ./Cucumber Ripe\n",
            "    367 ./Tomato Maroon\n",
            "    300 ./Pear Kaiser\n",
            "    300 ./Mangostan\n",
            "    297 ./Ginger Root\n"
          ],
          "name": "stdout"
        }
      ]
    },
    {
      "cell_type": "markdown",
      "metadata": {
        "id": "Gn02WDLF9DYr"
      },
      "source": [
        "### 1.2: Data Processing\n",
        "\n",
        "Remove the folders that have items that are not sold individually, such as berries. Also, consolidate classes that feature the same type of fruit.\n",
        "\n",
        "Michael: this is what the class consolidation looks like right now, everything else just maps the original to itself\n",
        "\n",
        "```\n",
        "New Class                       Old Classes(s)\n",
        "Apple Red                       Apple Red 1, Apple Red 2, Apple Red 3\n",
        "Apple Red Delicious             Apple Red Delicious\n",
        "Apple Red Yellow                Apple Red Yellow\n",
        "Apple Golden                    Apple Golden 1, 2, 3\n",
        "Avocado                         Avocado, Avocado Ripe\n",
        "Cantaloupe                      Cantaloupe 1, 2\n",
        "Cucumber                        Cucumber Ripe 1, 2 (Look different though)\n",
        "Onion Red                       Onion Red, Onion Red Peeled\n",
        "Peach                           Peach 1, 2\n",
        "Pear                            Pear 1, 2\n",
        "Plum                            Plum 1, 2, 3\n",
        "Tomato                          Tomato 1, 2, 3, 4 (Look different though)\n",
        "```\n"
      ]
    },
    {
      "cell_type": "code",
      "metadata": {
        "id": "QShEOH0TRyR9"
      },
      "source": [
        "\"\"\"\n",
        "TODO: once we agree on this more or less, turn this into a JSON file that we\n",
        "host in our GitHub repo and download so it doesn't take up so many lines in our \n",
        "notebook e.g. https://stackoverflow.com/a/12965254\n",
        "\n",
        "This dict contains a mapping from the original class names to our new classes.\n",
        "\n",
        "This will allow us to effectively consolidate classes that are similar looking\n",
        "and would be treated similarly at a grocery store checkout.\n",
        "\n",
        "We've also removed the classes that we don't want to train our model on such as\n",
        "items that are not sold individually (e.g. small berries)\n",
        "\"\"\"\n",
        "CLASS_MAPPING = {\n",
        "    \"Apple Braeburn\": \"Apple Braeburn\",\n",
        "    \"Apple Crimson Snow\": \"Apple Crimson Snow\",\n",
        "    \"Apple Golden 1\": \"Apple Golden\",\n",
        "    \"Apple Golden 2\": \"Apple Golden\",\n",
        "    \"Apple Golden 3\": \"Apple Golden\",\n",
        "    \"Apple Granny Smith\": \"Apple Granny Smith\",\n",
        "    \"Apple Pink Lady\": \"Apple Pink Lady\",\n",
        "    \"Apple Red 1\": \"Apple Red\",\n",
        "    \"Apple Red 2\": \"Apple Red\",\n",
        "    \"Apple Red 3\": \"Apple Red\",\n",
        "    \"Apple Red Delicious\": \"Apple Red Delicious\",\n",
        "    \"Apple Red Yellow 1\": \"Apple Red Yellow 1\",\n",
        "    \"Apple Red Yellow 2\": \"Apple Red Yellow 2\",\n",
        "    \"Apricot\": \"Apricot\",\n",
        "    \"Avocado\": \"Avocado\",\n",
        "    \"Avocado ripe\": \"Avocado\",\n",
        "    \"Banana\": \"Banana\",\n",
        "    \"Banana Lady Finger\": \"Banana Lady Finger\",\n",
        "    \"Banana Red\": \"Banana Red\",\n",
        "    \"Beetroot\": \"Beetroot\",\n",
        "\n",
        "    \"Cactus fruit\": \"Cactus fruit\",\n",
        "    \"Cantaloupe 1\": \"Cantaloupe\",\n",
        "    \"Cantaloupe 2\": \"Cantaloupe\",\n",
        "    \"Carambula\": \"Carambula\",\n",
        "    \"Cauliflower\": \"Cauliflower\",\n",
        "    \n",
        "    \"Clementine\": \"Clementine\",\n",
        "    \"Cocos\": \"Cocos\",\n",
        "    \"Corn\": \"Corn\",\n",
        "    \"Corn Husk\": \"Corn Husk\",\n",
        "    \"Cucumber Ripe\": \"Cucumber Ripe\",\n",
        "    \"Cucumber Ripe 2\": \"Cucumber Ripe\",\n",
        "    \"Dates\": \"Dates\",\n",
        "    \"Eggplant\": \"Eggplant\",\n",
        "    \"Fig\": \"Fig\",\n",
        "    \"Ginger Root\": \"Ginger Root\",\n",
        "    \"Granadilla\": \"Granadilla\",\n",
        "\n",
        "    \"Grapefruit Pink\": \"Grapefruit Pink\",\n",
        "    \"Grapefruit White\": \"Grapefruit White\",\n",
        "    \"Guava\": \"Guava\",\n",
        "\n",
        "    \"Kaki\": \"Kaki\",\n",
        "    \"Kiwi\": \"Kiwi\",\n",
        "    \"Kohlrabi\": \"Kohlrabi\",\n",
        "    \"Kumquats\": \"Kumquats\",\n",
        "    \"Lemon\": \"Lemon\",\n",
        "    \"Lemon Meyer\": \"Lemon Meyer\",\n",
        "    \"Limes\": \"Limes\",\n",
        "    \"Lychee\": \"Lychee\",\n",
        "    \"Mandarine\": \"Mandarine\",\n",
        "    \"Mango\": \"Mango\",\n",
        "    \"Mango Red\": \"Mango Red\",\n",
        "    \"Mangostan\": \"Mangostan\",\n",
        "    \"Maracuja\": \"Maracuja\",\n",
        "    \"Melon Piel de Sapo\": \"Melon Piel de Sapo\",\n",
        "\n",
        "    \"Nectarine\": \"Nectarine\",\n",
        "    \"Nectarine Flat\": \"Nectarine Flat\",\n",
        "\n",
        "    \"Onion Red\": \"Onion Red\",\n",
        "    \"Onion Red Peeled\": \"Onion Red\",\n",
        "    \"Onion White\": \"Onion White\",\n",
        "    \"Orange\": \"Orange\",\n",
        "    \"Papaya\": \"Papaya\",\n",
        "    \"Passion Fruit\": \"Passion Fruit\",\n",
        "    \"Peach\": \"Peach\",\n",
        "    \"Peach 2\": \"Peach\",\n",
        "    \"Peach Flat\": \"Peach Flat\",\n",
        "    \"Pear\": \"Pear\",\n",
        "    \"Pear 2\": \"Pear\",\n",
        "    \"Pear Abate\": \"Pear Abate\",\n",
        "    \"Pear Forelle\": \"Pear Forelle\",\n",
        "    \"Pear Kaiser\": \"Pear Kaiser\",\n",
        "    \"Pear Monster\": \"Pear Monster\",\n",
        "    \"Pear Red\": \"Pear Red\",\n",
        "    \"Pear Stone\": \"Pear Stone\",\n",
        "    \"Pear Williams\": \"Pear Williams\",\n",
        "    \"Pepino\": \"Pepino\",\n",
        "    \"Pepper Green\": \"Pepper Green\",\n",
        "    \"Pepper Orange\": \"Pepper Orange\",\n",
        "    \"Pepper Red\": \"Pepper Red\",\n",
        "    \"Pepper Yellow\": \"Pepper Yellow\",\n",
        "    \"Physalis\": \"Physalis\",\n",
        "    \"Physalis with Husk\": \"Physalis with Husk\",\n",
        "    \"Pineapple\": \"Pineapple\",\n",
        "    \"Pineapple Mini\": \"Pineapple Mini\",\n",
        "    \"Pitahaya Red\": \"Pitahaya Red\",\n",
        "    \"Plum\": \"Plum\",\n",
        "    \"Plum 2\": \"Plum\",\n",
        "    \"Plum 3\": \"Plum\",\n",
        "    \"Pomegranate\": \"Pomegranate\",\n",
        "    \"Pomelo Sweetie\": \"Pomelo Sweetie\",\n",
        "    \"Potato Red\": \"Potato Red\",\n",
        "    \"Potato Red Washed\": \"Potato Red Washed\",\n",
        "    \"Potato Sweet\": \"Potato Sweet\",\n",
        "    \"Potato White\": \"Potato White\",\n",
        "    \"Quince\": \"Quince\",\n",
        "    \"Rambutan\": \"Rambutan\",\n",
        "    \n",
        "    \"Salak\": \"Salak\",\n",
        "    \n",
        "    \"Tamarillo\": \"Tamarillo\",\n",
        "    \"Tangelo\": \"Tangelo\",\n",
        "    \"Tomato 1\": \"Tomato\",\n",
        "    \"Tomato 2\": \"Tomato\",\n",
        "    \"Tomato 3\": \"Tomato\",\n",
        "    \"Tomato 4\": \"Tomato\",\n",
        "    \"Tomato Cherry Red\": \"Tomato Cherry Red\",\n",
        "    \"Tomato Heart\": \"Tomato Heart\",\n",
        "    \"Tomato Maroon\": \"Tomato Maroon\",\n",
        "    \"Tomato not Ripened\": \"Tomato not Ripened\",\n",
        "    \"Tomato Yellow\": \"Tomato Yellow\",\n",
        "    \n",
        "    \"Watermelon\": \"Watermelon\"\n",
        "}"
      ],
      "execution_count": 27,
      "outputs": []
    },
    {
      "cell_type": "code",
      "metadata": {
        "id": "VP6Vrvb2SI8u",
        "outputId": "2de5dc84-8799-4890-f477-4c14829faa4d",
        "colab": {
          "base_uri": "https://localhost:8080/"
        }
      },
      "source": [
        "import os\n",
        "import shutil\n",
        "\n",
        "for dataset_type in [\"Training\", \"Test\"]:\n",
        "    for f in os.scandir(f\"{DATA_MASTER_PATH}/{dataset_type}\"):\n",
        "        if f.is_dir() and f.name not in CLASS_MAPPING:\n",
        "            shutil.rmtree(f.path)\n",
        "            print(\"Removed\", dataset_type, \"/\", f.name)"
      ],
      "execution_count": 28,
      "outputs": [
        {
          "output_type": "stream",
          "text": [
            "Removed Training / Grape Pink\n",
            "Removed Training / Cherry Wax Black\n",
            "Removed Training / Cherry Wax Red\n",
            "Removed Training / Cherry 1\n",
            "Removed Training / Walnut\n",
            "Removed Training / Hazelnut\n",
            "Removed Training / Grape White 4\n",
            "Removed Training / Grape Blue\n",
            "Removed Training / Nut Pecan\n",
            "Removed Training / Cherry 2\n",
            "Removed Training / Mulberry\n",
            "Removed Training / Blueberry\n",
            "Removed Training / Cherry Wax Yellow\n",
            "Removed Training / Cherry Rainier\n",
            "Removed Training / Strawberry Wedge\n",
            "Removed Training / Grape White\n",
            "Removed Training / Nut Forest\n",
            "Removed Training / Strawberry\n",
            "Removed Training / Chestnut\n",
            "Removed Training / Grape White 2\n",
            "Removed Training / Huckleberry\n",
            "Removed Training / Redcurrant\n",
            "Removed Training / Grape White 3\n",
            "Removed Training / Raspberry\n",
            "Removed Test / Grape Pink\n",
            "Removed Test / Cherry Wax Black\n",
            "Removed Test / Cherry Wax Red\n",
            "Removed Test / Cherry 1\n",
            "Removed Test / Walnut\n",
            "Removed Test / Hazelnut\n",
            "Removed Test / Grape White 4\n",
            "Removed Test / Grape Blue\n",
            "Removed Test / Nut Pecan\n",
            "Removed Test / Cherry 2\n",
            "Removed Test / Mulberry\n",
            "Removed Test / Blueberry\n",
            "Removed Test / Cherry Wax Yellow\n",
            "Removed Test / Cherry Rainier\n",
            "Removed Test / Strawberry Wedge\n",
            "Removed Test / Grape White\n",
            "Removed Test / Nut Forest\n",
            "Removed Test / Strawberry\n",
            "Removed Test / Chestnut\n",
            "Removed Test / Grape White 2\n",
            "Removed Test / Huckleberry\n",
            "Removed Test / Redcurrant\n",
            "Removed Test / Grape White 3\n",
            "Removed Test / Raspberry\n"
          ],
          "name": "stdout"
        }
      ]
    },
    {
      "cell_type": "code",
      "metadata": {
        "id": "-fHl4gfmXPvB",
        "outputId": "dd6d673f-d876-466b-ed6a-9c2f3bfaa937",
        "colab": {
          "base_uri": "https://localhost:8080/"
        }
      },
      "source": [
        "!cd \"{DATA_MASTER_PATH}/Training\" \\\n",
        "    && find -maxdepth 2 -mindepth 2 -type f -printf \"%h\\0\" \\\n",
        "    | uniq -zc | tr '\\0' '\\n' | sort -rh  \\\n",
        "    | (sed -u 10q ; echo \"...\" ; tail)"
      ],
      "execution_count": 29,
      "outputs": [
        {
          "output_type": "stream",
          "text": [
            "    900 ./Plum 3\n",
            "    738 ./Tomato 3\n",
            "    738 ./Tomato 1\n",
            "    738 ./Peach 2\n",
            "    738 ./Melon Piel de Sapo\n",
            "    711 ./Pear Stone\n",
            "    702 ./Pepper Orange\n",
            "    702 ./Pear Forelle\n",
            "    702 ./Fig\n",
            "    702 ./Cauliflower\n",
            "...\n",
            "    438 ./Onion White\n",
            "    429 ./Apple Red 3\n",
            "    427 ./Avocado\n",
            "    426 ./Mango Red\n",
            "    420 ./Plum 2\n",
            "    392 ./Cucumber Ripe\n",
            "    367 ./Tomato Maroon\n",
            "    300 ./Pear Kaiser\n",
            "    300 ./Mangostan\n",
            "    297 ./Ginger Root\n"
          ],
          "name": "stdout"
        }
      ]
    },
    {
      "cell_type": "markdown",
      "metadata": {
        "id": "_4_qQJYBYWkN"
      },
      "source": [
        "### 1.3: Data loading\n",
        "\n",
        "Now we'll create Pytorch dataloaders for our train, validation, and test sets"
      ]
    },
    {
      "cell_type": "code",
      "metadata": {
        "id": "L5gdlr7hYV0J"
      },
      "source": [
        "# todo: consolidation code and loaders code"
      ],
      "execution_count": null,
      "outputs": []
    },
    {
      "cell_type": "markdown",
      "metadata": {
        "id": "w8zUPgKgiOZ1"
      },
      "source": [
        "## 2. Data Processing\n",
        "\n",
        "**Tasks**:\n",
        "* Remove items that are not sold as individual fruits (i.e. vegetables, small berries, bunched bananas)\n",
        "* Consolidate split classes either by combining or removing (e.g. Apple Red 1/2/3)\n"
      ]
    },
    {
      "cell_type": "code",
      "metadata": {
        "id": "i2iijoVzilIc"
      },
      "source": [
        ""
      ],
      "execution_count": null,
      "outputs": []
    },
    {
      "cell_type": "markdown",
      "metadata": {
        "id": "cCHzon3ViljJ"
      },
      "source": [
        "## 3. Baseline Model\n",
        "\n",
        "**Tasks**:\n",
        "* Setup and train random forrest model\n"
      ]
    },
    {
      "cell_type": "code",
      "metadata": {
        "id": "gnj8llP9it8n"
      },
      "source": [
        ""
      ],
      "execution_count": null,
      "outputs": []
    },
    {
      "cell_type": "markdown",
      "metadata": {
        "id": "_E1bdxW8iugn"
      },
      "source": [
        "## 4. Model Setup\n",
        "\n",
        "**Tasks**:\n",
        "* Using previous labs as reference, create CNN skeleton to work for 100x100 RGB images\n"
      ]
    },
    {
      "cell_type": "code",
      "metadata": {
        "id": "UyL2mbjVjDeH"
      },
      "source": [
        ""
      ],
      "execution_count": null,
      "outputs": []
    },
    {
      "cell_type": "markdown",
      "metadata": {
        "id": "XDwEYmJojEFI"
      },
      "source": [
        "## 5. Model Training and Tuning\n",
        "\n",
        "**Tasks**:\n",
        "* Write training code \n",
        "* Adjust hyperparameters to get at least 90% validation accuracy\n",
        "\n"
      ]
    },
    {
      "cell_type": "code",
      "metadata": {
        "id": "5qSSxcEQjLVG"
      },
      "source": [
        ""
      ],
      "execution_count": null,
      "outputs": []
    }
  ]
}